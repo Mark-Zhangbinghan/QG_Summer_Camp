{
 "cells": [
  {
   "cell_type": "code",
   "execution_count": 4,
   "id": "initial_id",
   "metadata": {
    "collapsed": true,
    "ExecuteTime": {
     "end_time": "2024-07-07T07:17:26.078575200Z",
     "start_time": "2024-07-07T07:17:26.075772500Z"
    }
   },
   "outputs": [],
   "source": [
    "from torch.utils.tensorboard import SummaryWriter\n",
    "from PIL import Image\n",
    "import numpy as np"
   ]
  },
  {
   "cell_type": "code",
   "outputs": [
    {
     "name": "stdout",
     "output_type": "stream",
     "text": [
      "<class 'numpy.ndarray'>\n",
      "(512, 768, 3)\n"
     ]
    }
   ],
   "source": [
    "img_path = \"hymenoptera_data/train/ants/0013035.jpg\"\n",
    "img_PIL = Image.open(img_path)  \n",
    "img_array = np.array(img_PIL)\n",
    "print(type(img_array))\n",
    "print(img_array.shape)"
   ],
   "metadata": {
    "collapsed": false,
    "ExecuteTime": {
     "end_time": "2024-07-07T07:17:26.094974900Z",
     "start_time": "2024-07-07T07:17:26.078575200Z"
    }
   },
   "id": "7710a1b3c6e5fecb",
   "execution_count": 5
  },
  {
   "cell_type": "code",
   "outputs": [],
   "source": [
    "writer = SummaryWriter('logs')\n",
    "\n",
    "writer.add_image(\"test\", img_array, 1,  dataformats='HWC') \n",
    "for i in range(100):\n",
    "    writer.add_scalar(\"y=x\", i, i)\n",
    "\n",
    "writer.close()"
   ],
   "metadata": {
    "collapsed": false,
    "ExecuteTime": {
     "end_time": "2024-07-07T07:17:26.221833800Z",
     "start_time": "2024-07-07T07:17:26.086491700Z"
    }
   },
   "id": "eed3d6b3a197c603",
   "execution_count": 6
  }
 ],
 "metadata": {
  "kernelspec": {
   "display_name": "Python 3",
   "language": "python",
   "name": "python3"
  },
  "language_info": {
   "codemirror_mode": {
    "name": "ipython",
    "version": 2
   },
   "file_extension": ".py",
   "mimetype": "text/x-python",
   "name": "python",
   "nbconvert_exporter": "python",
   "pygments_lexer": "ipython2",
   "version": "2.7.6"
  }
 },
 "nbformat": 4,
 "nbformat_minor": 5
}
