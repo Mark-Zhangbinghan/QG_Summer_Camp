{
 "cells": [
  {
   "cell_type": "code",
   "execution_count": 1,
   "id": "initial_id",
   "metadata": {
    "collapsed": true,
    "ExecuteTime": {
     "end_time": "2024-07-07T14:03:52.734292200Z",
     "start_time": "2024-07-07T14:03:50.014015900Z"
    }
   },
   "outputs": [],
   "source": [
    "from torchvision import transforms\n",
    "from PIL import Image\n",
    "from torch.utils.tensorboard import SummaryWriter"
   ]
  },
  {
   "cell_type": "code",
   "outputs": [],
   "source": [
    "img_path = \"hymenoptera_data/train/ants/0013035.jpg\"\n",
    "img = Image.open(img_path)\n",
    "tensor_trans = transforms.ToTensor()\n",
    "tensor_img = tensor_trans(img)"
   ],
   "metadata": {
    "collapsed": false,
    "ExecuteTime": {
     "end_time": "2024-07-07T14:03:52.766659300Z",
     "start_time": "2024-07-07T14:03:52.735403900Z"
    }
   },
   "id": "bd83a9fb8dc04893",
   "execution_count": 2
  },
  {
   "cell_type": "code",
   "outputs": [],
   "source": [
    "writer = SummaryWriter('logs')\n",
    "writer.add_image(\"Tensor_img\", tensor_img) \n",
    "writer.close()\n",
    "\"\"\"\n",
    "%reload_ext tensorboard\n",
    "from tensorboard import notebook\n",
    "notebook.list()\n",
    "notebook.start(\"--logdir logs\")\n",
    "\"\"\""
   ],
   "metadata": {
    "collapsed": false,
    "ExecuteTime": {
     "end_time": "2024-07-07T14:03:52.885135300Z",
     "start_time": "2024-07-07T14:03:52.754627900Z"
    }
   },
   "id": "acccba9dbbd80110",
   "execution_count": 3
  }
 ],
 "metadata": {
  "kernelspec": {
   "display_name": "Python 3",
   "language": "python",
   "name": "python3"
  },
  "language_info": {
   "codemirror_mode": {
    "name": "ipython",
    "version": 2
   },
   "file_extension": ".py",
   "mimetype": "text/x-python",
   "name": "python",
   "nbconvert_exporter": "python",
   "pygments_lexer": "ipython2",
   "version": "2.7.6"
  }
 },
 "nbformat": 4,
 "nbformat_minor": 5
}
