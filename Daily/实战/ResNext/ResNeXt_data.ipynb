{
 "cells": [
  {
   "cell_type": "code",
   "outputs": [],
   "source": [
    "import ResNeXt\n",
    "\n",
    "import pandas as pd\n",
    "import numpy as np\n",
    "import torch\n",
    "from torch import nn\n",
    "from torch.utils.data import Dataset\n",
    "import torch.nn.functional as F\n",
    "import cv2\n",
    "from PIL import Image\n",
    "import os\n",
    "from torchvision import transforms\n",
    "from tqdm import tqdm"
   ],
   "metadata": {
    "collapsed": false,
    "ExecuteTime": {
     "end_time": "2024-07-18T02:37:33.594795100Z",
     "start_time": "2024-07-18T02:37:28.972757900Z"
    }
   },
   "id": "dd09ff9a65836c8b",
   "execution_count": 1
  },
  {
   "cell_type": "code",
   "outputs": [],
   "source": [
    "# 引入标签\n",
    "device = torch.device(\"cuda:0\" if torch.cuda.is_available() else \"cpu\")    # 定义训练用\n",
    "model = ResNeXt.ResNeXt50_32x4d().to(device)                               # 导入模型\n",
    "loss_fuc = nn.CrossEntropyLoss()                                            # 设置损失函数 \n",
    "optimizer = torch.optim.SGD(model.parameters(), lr=0.005, momentum=0.8)                  # 设置梯度下降函数\n",
    "transform = transforms.Compose([\n",
    "                transforms.Resize(256),\n",
    "                transforms.CenterCrop(224),\n",
    "                transforms.ToTensor(),\n",
    "                transforms.Normalize(mean=[0.485, 0.456, 0.406], std=[0.229, 0.224, 0.225]),\n",
    "        ])"
   ],
   "metadata": {
    "collapsed": false,
    "ExecuteTime": {
     "end_time": "2024-07-18T02:37:33.717516200Z",
     "start_time": "2024-07-18T02:37:33.597811400Z"
    }
   },
   "id": "d1d1706cb677cc6b",
   "execution_count": 2
  },
  {
   "cell_type": "code",
   "outputs": [],
   "source": [
    "img_labels = pd.read_csv(r'C:\\Users\\24468\\Desktop\\python练习\\cassava-leaf-disease-classification\\train.csv')"
   ],
   "metadata": {
    "collapsed": false,
    "ExecuteTime": {
     "end_time": "2024-07-18T02:37:33.749518100Z",
     "start_time": "2024-07-18T02:37:33.718742200Z"
    }
   },
   "id": "64f0c9b4838456be",
   "execution_count": 3
  },
  {
   "cell_type": "code",
   "outputs": [
    {
     "data": {
      "text/plain": "(21397, 2)"
     },
     "execution_count": 4,
     "metadata": {},
     "output_type": "execute_result"
    }
   ],
   "source": [
    "img_labels.shape"
   ],
   "metadata": {
    "collapsed": false,
    "ExecuteTime": {
     "end_time": "2024-07-18T02:37:33.750520900Z",
     "start_time": "2024-07-18T02:37:33.744523Z"
    }
   },
   "id": "c17bc2dcc8b51823",
   "execution_count": 4
  },
  {
   "cell_type": "code",
   "outputs": [],
   "source": [
    "img_dir  = r'C:\\Users\\24468\\Desktop\\python练习\\cassava-leaf-disease-classification\\train_images'\n",
    "annotations_path = r'C:\\Users\\24468\\Desktop\\python练习\\cassava-leaf-disease-classification\\train.csv'\n",
    "\n",
    "class MyDataset(Dataset): # 定义类\n",
    "    def __init__(self, annotations_file, img_dir, img_transform=None, target_transform=None):\n",
    "        self.img_labels = pd.read_csv(annotations_file)\n",
    "        self.img_dir = img_dir\n",
    "        self.img_transform = img_transform\n",
    "        self.target_transform = target_transform\n",
    "\n",
    "    def __len__(self):\n",
    "        return len(self.img_labels)\n",
    "\n",
    "    def __getitem__(self, idx):\n",
    "        img_path = os.path.join(self.img_dir, self.img_labels.iloc[idx, 0])\n",
    "        image = Image.open(img_path)\n",
    "        image = self.img_transform(image)\n",
    "        label = self.img_labels.iloc[idx, 1]\n",
    "        return image, label\n",
    "    \n",
    "dataset = MyDataset(annotations_path, img_dir, img_transform=transform, target_transform=None)\n",
    "train_loader = torch.utils.data.DataLoader(dataset, batch_size=64)"
   ],
   "metadata": {
    "collapsed": false,
    "ExecuteTime": {
     "end_time": "2024-07-18T02:37:33.764119200Z",
     "start_time": "2024-07-18T02:37:33.752841300Z"
    }
   },
   "id": "6a4276b2079b30b5",
   "execution_count": 5
  },
  {
   "cell_type": "code",
   "outputs": [
    {
     "name": "stderr",
     "output_type": "stream",
     "text": [
      "100it [29:55, 16.09s/it]"
     ]
    },
    {
     "name": "stdout",
     "output_type": "stream",
     "text": [
      "[Epoch:1, batch:100] train loss: 1.471\n"
     ]
    },
    {
     "name": "stderr",
     "output_type": "stream",
     "text": [
      "200it [56:32, 20.62s/it]"
     ]
    },
    {
     "name": "stdout",
     "output_type": "stream",
     "text": [
      "[Epoch:1, batch:200] train loss: 1.206\n"
     ]
    },
    {
     "name": "stderr",
     "output_type": "stream",
     "text": [
      "300it [1:31:48, 21.43s/it]"
     ]
    },
    {
     "name": "stdout",
     "output_type": "stream",
     "text": [
      "[Epoch:1, batch:300] train loss: 1.145\n"
     ]
    },
    {
     "name": "stderr",
     "output_type": "stream",
     "text": [
      "335it [1:44:03, 18.64s/it]\n",
      "100it [35:23, 21.23s/it]"
     ]
    },
    {
     "name": "stdout",
     "output_type": "stream",
     "text": [
      "[Epoch:2, batch:100] train loss: 1.044\n"
     ]
    },
    {
     "name": "stderr",
     "output_type": "stream",
     "text": [
      "200it [1:10:57, 21.18s/it]"
     ]
    },
    {
     "name": "stdout",
     "output_type": "stream",
     "text": [
      "[Epoch:2, batch:200] train loss: 1.037\n"
     ]
    },
    {
     "name": "stderr",
     "output_type": "stream",
     "text": [
      "300it [1:42:25, 12.86s/it]"
     ]
    },
    {
     "name": "stdout",
     "output_type": "stream",
     "text": [
      "[Epoch:2, batch:300] train loss: 1.014\n"
     ]
    },
    {
     "name": "stderr",
     "output_type": "stream",
     "text": [
      "335it [1:49:38, 19.64s/it]\n",
      "100it [21:13, 12.73s/it]"
     ]
    },
    {
     "name": "stdout",
     "output_type": "stream",
     "text": [
      "[Epoch:3, batch:100] train loss: 0.967\n"
     ]
    },
    {
     "name": "stderr",
     "output_type": "stream",
     "text": [
      "200it [43:29, 13.95s/it]"
     ]
    },
    {
     "name": "stdout",
     "output_type": "stream",
     "text": [
      "[Epoch:3, batch:200] train loss: 0.943\n"
     ]
    },
    {
     "name": "stderr",
     "output_type": "stream",
     "text": [
      "300it [1:07:05, 13.11s/it]"
     ]
    },
    {
     "name": "stdout",
     "output_type": "stream",
     "text": [
      "[Epoch:3, batch:300] train loss: 0.902\n"
     ]
    },
    {
     "name": "stderr",
     "output_type": "stream",
     "text": [
      "335it [1:14:55, 13.42s/it]\n"
     ]
    }
   ],
   "source": [
    "# 开始训练\n",
    "Epoch = 3\n",
    "for epoch in range(Epoch):\n",
    "    sum_loss = 0\n",
    "    for i, data in tqdm(enumerate(train_loader)):\n",
    "        inputs, labels = data\n",
    "        inputs, labels = inputs.to(device), labels.to(device)\n",
    "        optimizer.zero_grad()\n",
    "        outputs = model(inputs)\n",
    "        loss = loss_fuc(outputs, labels)\n",
    "        loss.backward()\n",
    "        optimizer.step()\n",
    "        sum_loss += loss.item()\n",
    "        if i % 100 == 99:\n",
    "            print('[Epoch:%d, batch:%d] train loss: %.03f' % (epoch + 1, i + 1, sum_loss / 100))\n",
    "            sum_loss = 0.0"
   ],
   "metadata": {
    "collapsed": false,
    "ExecuteTime": {
     "end_time": "2024-07-18T07:26:10.799879100Z",
     "start_time": "2024-07-18T02:37:33.765141500Z"
    }
   },
   "id": "4bfe7b614015c9ca",
   "execution_count": 6
  },
  {
   "cell_type": "code",
   "outputs": [],
   "source": [
    "torch.save(model, r\"C:\\Users\\24468\\Desktop\\python练习\\cassava-leaf-disease-classification\\ResNext_model.pt\")"
   ],
   "metadata": {
    "collapsed": false,
    "ExecuteTime": {
     "end_time": "2024-07-18T07:26:10.954842500Z",
     "start_time": "2024-07-18T07:26:10.839377900Z"
    }
   },
   "id": "abdfb0e28b2b0133",
   "execution_count": 7
  },
  {
   "cell_type": "code",
   "outputs": [],
   "source": [],
   "metadata": {
    "collapsed": false,
    "ExecuteTime": {
     "end_time": "2024-07-18T07:26:10.963333500Z",
     "start_time": "2024-07-18T07:26:10.957320100Z"
    }
   },
   "id": "5e03f66d59c1d1a3",
   "execution_count": 7
  }
 ],
 "metadata": {
  "kernelspec": {
   "display_name": "Python 3",
   "language": "python",
   "name": "python3"
  },
  "language_info": {
   "codemirror_mode": {
    "name": "ipython",
    "version": 2
   },
   "file_extension": ".py",
   "mimetype": "text/x-python",
   "name": "python",
   "nbconvert_exporter": "python",
   "pygments_lexer": "ipython2",
   "version": "2.7.6"
  }
 },
 "nbformat": 4,
 "nbformat_minor": 5
}
