{
 "cells": [
  {
   "cell_type": "code",
   "execution_count": 1,
   "id": "585bd8fd-41c1-4fa1-a582-a3b6b331f1f1",
   "metadata": {
    "ExecuteTime": {
     "end_time": "2024-07-07T02:55:22.188758100Z",
     "start_time": "2024-07-07T02:55:20.664326900Z"
    }
   },
   "outputs": [],
   "source": [
    "import torch\n",
    "from torch.utils.data import Dataset\n",
    "import cv2\n",
    "from PIL import Image\n",
    "import os"
   ]
  },
  {
   "cell_type": "code",
   "outputs": [],
   "source": [
    "class MyDataset(Dataset):\n",
    "    \n",
    "    def __init__(self, root_dir, label_dir):\n",
    "        self.root_dir = root_dir\n",
    "        self.label_dir = label_dir\n",
    "        self.path = os.path.join(self.root_dir, self.label_dir)\n",
    "        self.img_path = os.listdir(self.path)\n",
    "        \n",
    "    def __getitem__(self, idx):\n",
    "        img_name = self.img_path[idx]\n",
    "        img_item_path = os.path.join(self.root_dir, self.label_dir, img_name)\n",
    "        img = Image.open(img_item_path)\n",
    "        label = self.label_dir\n",
    "        return img, label\n",
    "    \n",
    "    def __len__(self):\n",
    "        return len(self.img_path)"
   ],
   "metadata": {
    "collapsed": false,
    "ExecuteTime": {
     "end_time": "2024-07-07T02:55:22.205132600Z",
     "start_time": "2024-07-07T02:55:22.194891300Z"
    }
   },
   "id": "cd301b760fa232e6",
   "execution_count": 2
  },
  {
   "cell_type": "code",
   "outputs": [],
   "source": [
    "root_dir = \"hymenoptera_data/train\"\n",
    "ants_label_dir = \"ants\"\n",
    "bees_label_dir = \"bees\"\n",
    "idx = 0"
   ],
   "metadata": {
    "collapsed": false,
    "ExecuteTime": {
     "end_time": "2024-07-07T02:55:22.205132600Z",
     "start_time": "2024-07-07T02:55:22.198234500Z"
    }
   },
   "id": "f9cbb41b0e8db565",
   "execution_count": 3
  },
  {
   "cell_type": "code",
   "outputs": [],
   "source": [
    "ants_dataset = MyDataset(root_dir, ants_label_dir)\n",
    "bees_dataset = MyDataset(root_dir, bees_label_dir)"
   ],
   "metadata": {
    "collapsed": false,
    "ExecuteTime": {
     "end_time": "2024-07-07T02:55:22.225212200Z",
     "start_time": "2024-07-07T02:55:22.206135200Z"
    }
   },
   "id": "54b9f030c9c2f618",
   "execution_count": 4
  },
  {
   "cell_type": "code",
   "outputs": [
    {
     "name": "stdout",
     "output_type": "stream",
     "text": [
      "245\n"
     ]
    }
   ],
   "source": [
    "train_dataset = ants_dataset + bees_dataset\n",
    "print(len(train_dataset))"
   ],
   "metadata": {
    "collapsed": false,
    "ExecuteTime": {
     "end_time": "2024-07-07T02:55:22.225212200Z",
     "start_time": "2024-07-07T02:55:22.216258300Z"
    }
   },
   "id": "c04c2fa8500dde69",
   "execution_count": 5
  }
 ],
 "metadata": {
  "kernelspec": {
   "display_name": "Python 3 (ipykernel)",
   "language": "python",
   "name": "python3"
  },
  "language_info": {
   "codemirror_mode": {
    "name": "ipython",
    "version": 3
   },
   "file_extension": ".py",
   "mimetype": "text/x-python",
   "name": "python",
   "nbconvert_exporter": "python",
   "pygments_lexer": "ipython3",
   "version": "3.11.8"
  }
 },
 "nbformat": 4,
 "nbformat_minor": 5
}
